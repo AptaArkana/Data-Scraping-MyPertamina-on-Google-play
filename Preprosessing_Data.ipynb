{
 "cells": [
  {
   "cell_type": "code",
   "execution_count": 19,
   "id": "1b1f5da3",
   "metadata": {},
   "outputs": [],
   "source": [
    "import pandas as pd\n",
    "import string\n",
    "import nltk"
   ]
  },
  {
   "cell_type": "code",
   "execution_count": 20,
   "id": "48199bfb",
   "metadata": {},
   "outputs": [
    {
     "data": {
      "text/html": [
       "<div>\n",
       "<style scoped>\n",
       "    .dataframe tbody tr th:only-of-type {\n",
       "        vertical-align: middle;\n",
       "    }\n",
       "\n",
       "    .dataframe tbody tr th {\n",
       "        vertical-align: top;\n",
       "    }\n",
       "\n",
       "    .dataframe thead th {\n",
       "        text-align: right;\n",
       "    }\n",
       "</style>\n",
       "<table border=\"1\" class=\"dataframe\">\n",
       "  <thead>\n",
       "    <tr style=\"text-align: right;\">\n",
       "      <th></th>\n",
       "      <th>content</th>\n",
       "      <th>score</th>\n",
       "      <th>at</th>\n",
       "      <th>Year</th>\n",
       "      <th>Month</th>\n",
       "      <th>Day</th>\n",
       "    </tr>\n",
       "  </thead>\n",
       "  <tbody>\n",
       "    <tr>\n",
       "      <th>0</th>\n",
       "      <td>Ini mau scan struk..!tpi masuk aj susah...udah...</td>\n",
       "      <td>3</td>\n",
       "      <td>2018-09-12 16:02:28</td>\n",
       "      <td>2018</td>\n",
       "      <td>9</td>\n",
       "      <td>12</td>\n",
       "    </tr>\n",
       "    <tr>\n",
       "      <th>1</th>\n",
       "      <td>Error tolong perbaiki... konten berkahenergi.</td>\n",
       "      <td>3</td>\n",
       "      <td>2018-09-12 19:44:18</td>\n",
       "      <td>2018</td>\n",
       "      <td>9</td>\n",
       "      <td>12</td>\n",
       "    </tr>\n",
       "    <tr>\n",
       "      <th>2</th>\n",
       "      <td>Kenapa sih pas struknya discan gk bisa dan jug...</td>\n",
       "      <td>1</td>\n",
       "      <td>2018-09-12 23:17:19</td>\n",
       "      <td>2018</td>\n",
       "      <td>9</td>\n",
       "      <td>12</td>\n",
       "    </tr>\n",
       "    <tr>\n",
       "      <th>3</th>\n",
       "      <td>Bagus aplikasi nya,. Semoga bermanfaat.. Tapi ...</td>\n",
       "      <td>5</td>\n",
       "      <td>2018-09-13 17:32:09</td>\n",
       "      <td>2018</td>\n",
       "      <td>9</td>\n",
       "      <td>13</td>\n",
       "    </tr>\n",
       "    <tr>\n",
       "      <th>4</th>\n",
       "      <td>Aplikasi ini masih goblog. Soalnya scan foto p...</td>\n",
       "      <td>1</td>\n",
       "      <td>2018-09-13 17:48:42</td>\n",
       "      <td>2018</td>\n",
       "      <td>9</td>\n",
       "      <td>13</td>\n",
       "    </tr>\n",
       "    <tr>\n",
       "      <th>...</th>\n",
       "      <td>...</td>\n",
       "      <td>...</td>\n",
       "      <td>...</td>\n",
       "      <td>...</td>\n",
       "      <td>...</td>\n",
       "      <td>...</td>\n",
       "    </tr>\n",
       "    <tr>\n",
       "      <th>46760</th>\n",
       "      <td>Maaf saya kasih bintang 1.karena apa, data dir...</td>\n",
       "      <td>1</td>\n",
       "      <td>2022-09-29 18:17:24</td>\n",
       "      <td>2022</td>\n",
       "      <td>9</td>\n",
       "      <td>29</td>\n",
       "    </tr>\n",
       "    <tr>\n",
       "      <th>46761</th>\n",
       "      <td>Sangat ribet apalagi costumer pertamina bukan ...</td>\n",
       "      <td>1</td>\n",
       "      <td>2022-09-29 18:36:05</td>\n",
       "      <td>2022</td>\n",
       "      <td>9</td>\n",
       "      <td>29</td>\n",
       "    </tr>\n",
       "    <tr>\n",
       "      <th>46762</th>\n",
       "      <td>Sisa kuota bbm subsidi tidak ditampilkan sekar...</td>\n",
       "      <td>2</td>\n",
       "      <td>2022-09-29 19:35:01</td>\n",
       "      <td>2022</td>\n",
       "      <td>9</td>\n",
       "      <td>29</td>\n",
       "    </tr>\n",
       "    <tr>\n",
       "      <th>46763</th>\n",
       "      <td>Emil salah ngga ada fitur buat ngganti Telpon ...</td>\n",
       "      <td>1</td>\n",
       "      <td>2022-09-29 19:36:25</td>\n",
       "      <td>2022</td>\n",
       "      <td>9</td>\n",
       "      <td>29</td>\n",
       "    </tr>\n",
       "    <tr>\n",
       "      <th>46764</th>\n",
       "      <td>Ribet Tiap login wajib verifikasi kode lewat e...</td>\n",
       "      <td>1</td>\n",
       "      <td>2022-09-29 19:59:09</td>\n",
       "      <td>2022</td>\n",
       "      <td>9</td>\n",
       "      <td>29</td>\n",
       "    </tr>\n",
       "  </tbody>\n",
       "</table>\n",
       "<p>46765 rows × 6 columns</p>\n",
       "</div>"
      ],
      "text/plain": [
       "                                                 content  score  \\\n",
       "0      Ini mau scan struk..!tpi masuk aj susah...udah...      3   \n",
       "1          Error tolong perbaiki... konten berkahenergi.      3   \n",
       "2      Kenapa sih pas struknya discan gk bisa dan jug...      1   \n",
       "3      Bagus aplikasi nya,. Semoga bermanfaat.. Tapi ...      5   \n",
       "4      Aplikasi ini masih goblog. Soalnya scan foto p...      1   \n",
       "...                                                  ...    ...   \n",
       "46760  Maaf saya kasih bintang 1.karena apa, data dir...      1   \n",
       "46761  Sangat ribet apalagi costumer pertamina bukan ...      1   \n",
       "46762  Sisa kuota bbm subsidi tidak ditampilkan sekar...      2   \n",
       "46763  Emil salah ngga ada fitur buat ngganti Telpon ...      1   \n",
       "46764  Ribet Tiap login wajib verifikasi kode lewat e...      1   \n",
       "\n",
       "                        at  Year  Month  Day  \n",
       "0      2018-09-12 16:02:28  2018      9   12  \n",
       "1      2018-09-12 19:44:18  2018      9   12  \n",
       "2      2018-09-12 23:17:19  2018      9   12  \n",
       "3      2018-09-13 17:32:09  2018      9   13  \n",
       "4      2018-09-13 17:48:42  2018      9   13  \n",
       "...                    ...   ...    ...  ...  \n",
       "46760  2022-09-29 18:17:24  2022      9   29  \n",
       "46761  2022-09-29 18:36:05  2022      9   29  \n",
       "46762  2022-09-29 19:35:01  2022      9   29  \n",
       "46763  2022-09-29 19:36:25  2022      9   29  \n",
       "46764  2022-09-29 19:59:09  2022      9   29  \n",
       "\n",
       "[46765 rows x 6 columns]"
      ]
     },
     "execution_count": 20,
     "metadata": {},
     "output_type": "execute_result"
    }
   ],
   "source": [
    "df = pd.read_csv(\"mypertamina_review.csv\")\n",
    "df"
   ]
  },
  {
   "cell_type": "code",
   "execution_count": 21,
   "id": "c7627b7e",
   "metadata": {},
   "outputs": [
    {
     "data": {
      "text/html": [
       "<div>\n",
       "<style scoped>\n",
       "    .dataframe tbody tr th:only-of-type {\n",
       "        vertical-align: middle;\n",
       "    }\n",
       "\n",
       "    .dataframe tbody tr th {\n",
       "        vertical-align: top;\n",
       "    }\n",
       "\n",
       "    .dataframe thead th {\n",
       "        text-align: right;\n",
       "    }\n",
       "</style>\n",
       "<table border=\"1\" class=\"dataframe\">\n",
       "  <thead>\n",
       "    <tr style=\"text-align: right;\">\n",
       "      <th></th>\n",
       "      <th>content</th>\n",
       "      <th>score</th>\n",
       "      <th>at</th>\n",
       "      <th>Year</th>\n",
       "      <th>Month</th>\n",
       "      <th>Day</th>\n",
       "      <th>sentiment</th>\n",
       "    </tr>\n",
       "  </thead>\n",
       "  <tbody>\n",
       "    <tr>\n",
       "      <th>0</th>\n",
       "      <td>Ini mau scan struk..!tpi masuk aj susah...udah...</td>\n",
       "      <td>3</td>\n",
       "      <td>2018-09-12 16:02:28</td>\n",
       "      <td>2018</td>\n",
       "      <td>9</td>\n",
       "      <td>12</td>\n",
       "      <td>Netral</td>\n",
       "    </tr>\n",
       "    <tr>\n",
       "      <th>1</th>\n",
       "      <td>Error tolong perbaiki... konten berkahenergi.</td>\n",
       "      <td>3</td>\n",
       "      <td>2018-09-12 19:44:18</td>\n",
       "      <td>2018</td>\n",
       "      <td>9</td>\n",
       "      <td>12</td>\n",
       "      <td>Netral</td>\n",
       "    </tr>\n",
       "    <tr>\n",
       "      <th>2</th>\n",
       "      <td>Kenapa sih pas struknya discan gk bisa dan jug...</td>\n",
       "      <td>1</td>\n",
       "      <td>2018-09-12 23:17:19</td>\n",
       "      <td>2018</td>\n",
       "      <td>9</td>\n",
       "      <td>12</td>\n",
       "      <td>Negatif</td>\n",
       "    </tr>\n",
       "    <tr>\n",
       "      <th>3</th>\n",
       "      <td>Bagus aplikasi nya,. Semoga bermanfaat.. Tapi ...</td>\n",
       "      <td>5</td>\n",
       "      <td>2018-09-13 17:32:09</td>\n",
       "      <td>2018</td>\n",
       "      <td>9</td>\n",
       "      <td>13</td>\n",
       "      <td>Positif</td>\n",
       "    </tr>\n",
       "    <tr>\n",
       "      <th>4</th>\n",
       "      <td>Aplikasi ini masih goblog. Soalnya scan foto p...</td>\n",
       "      <td>1</td>\n",
       "      <td>2018-09-13 17:48:42</td>\n",
       "      <td>2018</td>\n",
       "      <td>9</td>\n",
       "      <td>13</td>\n",
       "      <td>Negatif</td>\n",
       "    </tr>\n",
       "  </tbody>\n",
       "</table>\n",
       "</div>"
      ],
      "text/plain": [
       "                                             content  score  \\\n",
       "0  Ini mau scan struk..!tpi masuk aj susah...udah...      3   \n",
       "1      Error tolong perbaiki... konten berkahenergi.      3   \n",
       "2  Kenapa sih pas struknya discan gk bisa dan jug...      1   \n",
       "3  Bagus aplikasi nya,. Semoga bermanfaat.. Tapi ...      5   \n",
       "4  Aplikasi ini masih goblog. Soalnya scan foto p...      1   \n",
       "\n",
       "                    at  Year  Month  Day sentiment  \n",
       "0  2018-09-12 16:02:28  2018      9   12    Netral  \n",
       "1  2018-09-12 19:44:18  2018      9   12    Netral  \n",
       "2  2018-09-12 23:17:19  2018      9   12   Negatif  \n",
       "3  2018-09-13 17:32:09  2018      9   13   Positif  \n",
       "4  2018-09-13 17:48:42  2018      9   13   Negatif  "
      ]
     },
     "execution_count": 21,
     "metadata": {},
     "output_type": "execute_result"
    }
   ],
   "source": [
    "sentimen = []\n",
    "for index, row in df.iterrows():\n",
    "    if row['score'] > 3 :\n",
    "        sentimen.append(\"Positif\")\n",
    "    elif row['score'] == 3:\n",
    "        sentimen.append(\"Netral\")\n",
    "    else:\n",
    "        sentimen.append(\"Negatif\")\n",
    "df['sentiment'] = sentimen\n",
    "df.head()"
   ]
  },
  {
   "cell_type": "code",
   "execution_count": 22,
   "id": "22e08415",
   "metadata": {},
   "outputs": [
    {
     "data": {
      "text/plain": [
       "Negatif    41562\n",
       "Positif     3803\n",
       "Netral      1400\n",
       "Name: sentiment, dtype: int64"
      ]
     },
     "execution_count": 22,
     "metadata": {},
     "output_type": "execute_result"
    }
   ],
   "source": [
    "df['sentiment'].value_counts()"
   ]
  },
  {
   "cell_type": "code",
   "execution_count": 23,
   "id": "8061c68c",
   "metadata": {},
   "outputs": [
    {
     "name": "stderr",
     "output_type": "stream",
     "text": [
      "[nltk_data] Downloading package punkt to\n",
      "[nltk_data]     C:\\Users\\RanggaSaputra\\AppData\\Roaming\\nltk_data...\n",
      "[nltk_data]   Package punkt is already up-to-date!\n",
      "[nltk_data] Downloading package stopwords to\n",
      "[nltk_data]     C:\\Users\\RanggaSaputra\\AppData\\Roaming\\nltk_data...\n",
      "[nltk_data]   Package stopwords is already up-to-date!\n",
      "[nltk_data] Downloading package wordnet to\n",
      "[nltk_data]     C:\\Users\\RanggaSaputra\\AppData\\Roaming\\nltk_data...\n",
      "[nltk_data]   Package wordnet is already up-to-date!\n"
     ]
    },
    {
     "data": {
      "text/plain": [
       "True"
      ]
     },
     "execution_count": 23,
     "metadata": {},
     "output_type": "execute_result"
    }
   ],
   "source": [
    "nltk.download('punkt')\n",
    "nltk.download('stopwords')\n",
    "nltk.download('wordnet')"
   ]
  },
  {
   "cell_type": "code",
   "execution_count": 24,
   "id": "021d5e18",
   "metadata": {},
   "outputs": [
    {
     "name": "stderr",
     "output_type": "stream",
     "text": [
      "C:\\Users\\RanggaSaputra\\AppData\\Local\\Temp\\ipykernel_15036\\3186891149.py:2: FutureWarning: The default value of regex will change from True to False in a future version.\n",
      "  df['content'] = df['content'].str.replace('https\\S+', ' ', case=False)\n"
     ]
    }
   ],
   "source": [
    "#Remove Url\n",
    "df['content'] = df['content'].str.replace('https\\S+', ' ', case=False)"
   ]
  },
  {
   "cell_type": "code",
   "execution_count": 25,
   "id": "899bfe91",
   "metadata": {},
   "outputs": [],
   "source": [
    "#Merubah Teks Jadi Lower Case\n",
    "df['content'] = df['content'].str.lower()"
   ]
  },
  {
   "cell_type": "code",
   "execution_count": 26,
   "id": "21f6b238",
   "metadata": {},
   "outputs": [
    {
     "name": "stderr",
     "output_type": "stream",
     "text": [
      "C:\\Users\\RanggaSaputra\\AppData\\Local\\Temp\\ipykernel_15036\\122392825.py:2: FutureWarning: The default value of regex will change from True to False in a future version.\n",
      "  df['content'] = df['content'].str.replace('@\\S+', ' ', case=False)\n"
     ]
    }
   ],
   "source": [
    "#Remove Mention\n",
    "df['content'] = df['content'].str.replace('@\\S+', ' ', case=False)"
   ]
  },
  {
   "cell_type": "code",
   "execution_count": 27,
   "id": "f6e15467",
   "metadata": {},
   "outputs": [
    {
     "name": "stderr",
     "output_type": "stream",
     "text": [
      "C:\\Users\\RanggaSaputra\\AppData\\Local\\Temp\\ipykernel_15036\\3063097289.py:2: FutureWarning: The default value of regex will change from True to False in a future version.\n",
      "  df['content'] = df['content'].str.replace('#\\S+', ' ', case=False)\n"
     ]
    }
   ],
   "source": [
    "#Remove Hastag\n",
    "df['content'] = df['content'].str.replace('#\\S+', ' ', case=False)"
   ]
  },
  {
   "cell_type": "code",
   "execution_count": 28,
   "id": "7b3f1f2a",
   "metadata": {},
   "outputs": [
    {
     "name": "stderr",
     "output_type": "stream",
     "text": [
      "C:\\Users\\RanggaSaputra\\AppData\\Local\\Temp\\ipykernel_15036\\2690599346.py:2: FutureWarning: The default value of regex will change from True to False in a future version.\n",
      "  df['content'] = df['content'].str.replace(\"\\'\\w+\", ' ', case=False)\n"
     ]
    }
   ],
   "source": [
    "#Remove next character\n",
    "df['content'] = df['content'].str.replace(\"\\'\\w+\", ' ', case=False)"
   ]
  },
  {
   "cell_type": "code",
   "execution_count": 29,
   "id": "b76d7195",
   "metadata": {},
   "outputs": [
    {
     "name": "stderr",
     "output_type": "stream",
     "text": [
      "C:\\Users\\RanggaSaputra\\AppData\\Local\\Temp\\ipykernel_15036\\2661083868.py:2: FutureWarning: The default value of regex will change from True to False in a future version.\n",
      "  df['content'] = df['content'].str.replace(\"[^\\w\\s]\", ' ', case=False)\n"
     ]
    }
   ],
   "source": [
    "#Remove Punctuation\n",
    "df['content'] = df['content'].str.replace(\"[^\\w\\s]\", ' ', case=False)"
   ]
  },
  {
   "cell_type": "code",
   "execution_count": 30,
   "id": "cfe4ed98",
   "metadata": {},
   "outputs": [
    {
     "name": "stderr",
     "output_type": "stream",
     "text": [
      "C:\\Users\\RanggaSaputra\\AppData\\Local\\Temp\\ipykernel_15036\\2747544112.py:2: FutureWarning: The default value of regex will change from True to False in a future version.\n",
      "  df['content'] = df['content'].str.replace(\"\\s(2)\", ' ', case=False)\n"
     ]
    }
   ],
   "source": [
    "#Remove extra whitespace\n",
    "df['content'] = df['content'].str.replace(\"\\s(2)\", ' ', case=False)"
   ]
  },
  {
   "cell_type": "code",
   "execution_count": 31,
   "id": "13b3bc4b",
   "metadata": {},
   "outputs": [
    {
     "data": {
      "text/plain": [
       "0        ini mau scan struk   tpi masuk aj susah   udah...\n",
       "1            error tolong perbaiki    konten berkahenergi \n",
       "2        kenapa sih pas struknya discan gk bisa dan jug...\n",
       "3        bagus aplikasi nya   semoga bermanfaat   tapi ...\n",
       "4        aplikasi ini masih goblog  soalnya scan foto p...\n",
       "                               ...                        \n",
       "46760    maaf saya kasih bintang 1 karena apa  data dir...\n",
       "46761    sangat ribet apalagi costumer pertamina bukan ...\n",
       "46762    sisa kuota bbm subsidi tidak ditampilkan sekar...\n",
       "46763    emil salah ngga ada fitur buat ngganti telpon ...\n",
       "46764    ribet tiap login wajib verifikasi kode lewat e...\n",
       "Name: content, Length: 46765, dtype: object"
      ]
     },
     "execution_count": 31,
     "metadata": {},
     "output_type": "execute_result"
    }
   ],
   "source": [
    "df.content"
   ]
  },
  {
   "cell_type": "code",
   "execution_count": 32,
   "id": "4c168908",
   "metadata": {},
   "outputs": [
    {
     "data": {
      "text/plain": [
       "content      0\n",
       "score        0\n",
       "at           0\n",
       "Year         0\n",
       "Month        0\n",
       "Day          0\n",
       "sentiment    0\n",
       "dtype: int64"
      ]
     },
     "execution_count": 32,
     "metadata": {},
     "output_type": "execute_result"
    }
   ],
   "source": [
    "df.isnull().sum()"
   ]
  },
  {
   "cell_type": "code",
   "execution_count": 33,
   "id": "7f1590f5",
   "metadata": {},
   "outputs": [
    {
     "name": "stdout",
     "output_type": "stream",
     "text": [
      "(0, 7)\n"
     ]
    },
    {
     "data": {
      "text/html": [
       "<div>\n",
       "<style scoped>\n",
       "    .dataframe tbody tr th:only-of-type {\n",
       "        vertical-align: middle;\n",
       "    }\n",
       "\n",
       "    .dataframe tbody tr th {\n",
       "        vertical-align: top;\n",
       "    }\n",
       "\n",
       "    .dataframe thead th {\n",
       "        text-align: right;\n",
       "    }\n",
       "</style>\n",
       "<table border=\"1\" class=\"dataframe\">\n",
       "  <thead>\n",
       "    <tr style=\"text-align: right;\">\n",
       "      <th></th>\n",
       "      <th>content</th>\n",
       "      <th>score</th>\n",
       "      <th>at</th>\n",
       "      <th>Year</th>\n",
       "      <th>Month</th>\n",
       "      <th>Day</th>\n",
       "      <th>sentiment</th>\n",
       "    </tr>\n",
       "  </thead>\n",
       "  <tbody>\n",
       "  </tbody>\n",
       "</table>\n",
       "</div>"
      ],
      "text/plain": [
       "Empty DataFrame\n",
       "Columns: [content, score, at, Year, Month, Day, sentiment]\n",
       "Index: []"
      ]
     },
     "execution_count": 33,
     "metadata": {},
     "output_type": "execute_result"
    }
   ],
   "source": [
    "nan = df[pd.isnull(df['content'])]\n",
    "print(nan.shape)\n",
    "nan.head()"
   ]
  },
  {
   "cell_type": "code",
   "execution_count": 34,
   "id": "441e924e",
   "metadata": {},
   "outputs": [
    {
     "data": {
      "text/html": [
       "<div>\n",
       "<style scoped>\n",
       "    .dataframe tbody tr th:only-of-type {\n",
       "        vertical-align: middle;\n",
       "    }\n",
       "\n",
       "    .dataframe tbody tr th {\n",
       "        vertical-align: top;\n",
       "    }\n",
       "\n",
       "    .dataframe thead th {\n",
       "        text-align: right;\n",
       "    }\n",
       "</style>\n",
       "<table border=\"1\" class=\"dataframe\">\n",
       "  <thead>\n",
       "    <tr style=\"text-align: right;\">\n",
       "      <th></th>\n",
       "      <th>content</th>\n",
       "      <th>score</th>\n",
       "      <th>at</th>\n",
       "      <th>Year</th>\n",
       "      <th>Month</th>\n",
       "      <th>Day</th>\n",
       "      <th>sentiment</th>\n",
       "    </tr>\n",
       "  </thead>\n",
       "  <tbody>\n",
       "    <tr>\n",
       "      <th>0</th>\n",
       "      <td>ini mau scan struk   tpi masuk aj susah   udah...</td>\n",
       "      <td>3</td>\n",
       "      <td>2018-09-12 16:02:28</td>\n",
       "      <td>2018</td>\n",
       "      <td>9</td>\n",
       "      <td>12</td>\n",
       "      <td>Netral</td>\n",
       "    </tr>\n",
       "    <tr>\n",
       "      <th>1</th>\n",
       "      <td>error tolong perbaiki    konten berkahenergi</td>\n",
       "      <td>3</td>\n",
       "      <td>2018-09-12 19:44:18</td>\n",
       "      <td>2018</td>\n",
       "      <td>9</td>\n",
       "      <td>12</td>\n",
       "      <td>Netral</td>\n",
       "    </tr>\n",
       "    <tr>\n",
       "      <th>2</th>\n",
       "      <td>kenapa sih pas struknya discan gk bisa dan jug...</td>\n",
       "      <td>1</td>\n",
       "      <td>2018-09-12 23:17:19</td>\n",
       "      <td>2018</td>\n",
       "      <td>9</td>\n",
       "      <td>12</td>\n",
       "      <td>Negatif</td>\n",
       "    </tr>\n",
       "    <tr>\n",
       "      <th>3</th>\n",
       "      <td>bagus aplikasi nya   semoga bermanfaat   tapi ...</td>\n",
       "      <td>5</td>\n",
       "      <td>2018-09-13 17:32:09</td>\n",
       "      <td>2018</td>\n",
       "      <td>9</td>\n",
       "      <td>13</td>\n",
       "      <td>Positif</td>\n",
       "    </tr>\n",
       "    <tr>\n",
       "      <th>4</th>\n",
       "      <td>aplikasi ini masih goblog  soalnya scan foto p...</td>\n",
       "      <td>1</td>\n",
       "      <td>2018-09-13 17:48:42</td>\n",
       "      <td>2018</td>\n",
       "      <td>9</td>\n",
       "      <td>13</td>\n",
       "      <td>Negatif</td>\n",
       "    </tr>\n",
       "  </tbody>\n",
       "</table>\n",
       "</div>"
      ],
      "text/plain": [
       "                                             content  score  \\\n",
       "0  ini mau scan struk   tpi masuk aj susah   udah...      3   \n",
       "1      error tolong perbaiki    konten berkahenergi       3   \n",
       "2  kenapa sih pas struknya discan gk bisa dan jug...      1   \n",
       "3  bagus aplikasi nya   semoga bermanfaat   tapi ...      5   \n",
       "4  aplikasi ini masih goblog  soalnya scan foto p...      1   \n",
       "\n",
       "                    at  Year  Month  Day sentiment  \n",
       "0  2018-09-12 16:02:28  2018      9   12    Netral  \n",
       "1  2018-09-12 19:44:18  2018      9   12    Netral  \n",
       "2  2018-09-12 23:17:19  2018      9   12   Negatif  \n",
       "3  2018-09-13 17:32:09  2018      9   13   Positif  \n",
       "4  2018-09-13 17:48:42  2018      9   13   Negatif  "
      ]
     },
     "execution_count": 34,
     "metadata": {},
     "output_type": "execute_result"
    }
   ],
   "source": [
    "df.dropna(axis=0, inplace=True)\n",
    "df.head()"
   ]
  },
  {
   "cell_type": "code",
   "execution_count": 35,
   "id": "955f151b",
   "metadata": {},
   "outputs": [
    {
     "data": {
      "text/plain": [
       "content      0\n",
       "score        0\n",
       "at           0\n",
       "Year         0\n",
       "Month        0\n",
       "Day          0\n",
       "sentiment    0\n",
       "dtype: int64"
      ]
     },
     "execution_count": 35,
     "metadata": {},
     "output_type": "execute_result"
    }
   ],
   "source": [
    "df.isnull().sum()"
   ]
  },
  {
   "cell_type": "code",
   "execution_count": 36,
   "id": "73198ee2",
   "metadata": {},
   "outputs": [],
   "source": [
    "df.to_csv(\"mypertamina_review2.csv\",encoding='utf-8', index=False)"
   ]
  }
 ],
 "metadata": {
  "kernelspec": {
   "display_name": "Python 3 (ipykernel)",
   "language": "python",
   "name": "python3"
  },
  "language_info": {
   "codemirror_mode": {
    "name": "ipython",
    "version": 3
   },
   "file_extension": ".py",
   "mimetype": "text/x-python",
   "name": "python",
   "nbconvert_exporter": "python",
   "pygments_lexer": "ipython3",
   "version": "3.10.7"
  },
  "varInspector": {
   "cols": {
    "lenName": 16,
    "lenType": 16,
    "lenVar": 40
   },
   "kernels_config": {
    "python": {
     "delete_cmd_postfix": "",
     "delete_cmd_prefix": "del ",
     "library": "var_list.py",
     "varRefreshCmd": "print(var_dic_list())"
    },
    "r": {
     "delete_cmd_postfix": ") ",
     "delete_cmd_prefix": "rm(",
     "library": "var_list.r",
     "varRefreshCmd": "cat(var_dic_list()) "
    }
   },
   "types_to_exclude": [
    "module",
    "function",
    "builtin_function_or_method",
    "instance",
    "_Feature"
   ],
   "window_display": false
  }
 },
 "nbformat": 4,
 "nbformat_minor": 5
}
